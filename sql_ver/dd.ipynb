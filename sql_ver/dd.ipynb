{
 "cells": [
  {
   "cell_type": "code",
   "id": "initial_id",
   "metadata": {
    "collapsed": true,
    "ExecuteTime": {
     "end_time": "2025-04-29T01:05:49.170156Z",
     "start_time": "2025-04-29T01:05:48.866480Z"
    }
   },
   "source": "import pandas as pd",
   "outputs": [],
   "execution_count": 2
  },
  {
   "metadata": {
    "ExecuteTime": {
     "end_time": "2025-04-29T01:05:59.746457Z",
     "start_time": "2025-04-29T01:05:59.710609Z"
    }
   },
   "cell_type": "code",
   "source": [
    "df = pd.read_csv('C:/Workspaces/SKN14-1st-6Team/new_한국교통안전공단_자동차결함 리콜현황_20231231.csv')\n",
    "df.head()"
   ],
   "id": "df45870177019c6b",
   "outputs": [
    {
     "data": {
      "text/plain": [
       "   Unnamed: 0            제작자                    차명    생산기간(부터)    생산기간(까지)  \\\n",
       "0           0       현대자동차(주)              포터2 (HR)  2023-03-07  2023-03-08   \n",
       "1           1    비엠더블유코리아(주)    M240i xDrive Coupe  2023-03-14  2023-03-29   \n",
       "2           2    비엠더블유코리아(주)           iX3 M Sport  2023-03-27  2023-04-07   \n",
       "3           3  메르세데스벤츠코리아(주)  Maybach S 580 4MATIC  2020-09-11  2020-10-28   \n",
       "4           4  메르세데스벤츠코리아(주)          S 580 4MATIC  2020-07-09  2020-07-09   \n",
       "\n",
       "        리콜개시일                                               리콜사유  \\\n",
       "0  2023-04-10  현대자동차㈜에서는 포터2(HR) 일부 차량에서 변속 케이블 브라켓 체결 작업 불량으...   \n",
       "1  2023-04-26  무선 충전용 트레이 장치의 소프트웨어 오류로 디지털 키 사용 시 시동을 끈 상태에서...   \n",
       "2  2023-04-26  무선 충전용 트레이 장치의 소프트웨어 오류로 디지털 키 사용 시 시동을 끈 상태에서...   \n",
       "3  2023-05-12  개발 공정 오류로 인하여 전방 차체 벽면 실링의 수밀성이 부족할 수 있어 비가 많이...   \n",
       "4  2023-05-12  개발 공정 오류로 인하여 전방 차체 벽면 실링의 수밀성이 부족할 수 있어 비가 많이...   \n",
       "\n",
       "                 keyword  \n",
       "0  작동시 제대로 변속이 되지 않아 의도치  \n",
       "1   무선 충전용 트레이 장치의 소프트웨어  \n",
       "2   무선 충전용 트레이 장치의 소프트웨어  \n",
       "3      전방 차체 벽면 실링의 수밀성이  \n",
       "4      전방 차체 벽면 실링의 수밀성이  "
      ],
      "text/html": [
       "<div>\n",
       "<style scoped>\n",
       "    .dataframe tbody tr th:only-of-type {\n",
       "        vertical-align: middle;\n",
       "    }\n",
       "\n",
       "    .dataframe tbody tr th {\n",
       "        vertical-align: top;\n",
       "    }\n",
       "\n",
       "    .dataframe thead th {\n",
       "        text-align: right;\n",
       "    }\n",
       "</style>\n",
       "<table border=\"1\" class=\"dataframe\">\n",
       "  <thead>\n",
       "    <tr style=\"text-align: right;\">\n",
       "      <th></th>\n",
       "      <th>Unnamed: 0</th>\n",
       "      <th>제작자</th>\n",
       "      <th>차명</th>\n",
       "      <th>생산기간(부터)</th>\n",
       "      <th>생산기간(까지)</th>\n",
       "      <th>리콜개시일</th>\n",
       "      <th>리콜사유</th>\n",
       "      <th>keyword</th>\n",
       "    </tr>\n",
       "  </thead>\n",
       "  <tbody>\n",
       "    <tr>\n",
       "      <th>0</th>\n",
       "      <td>0</td>\n",
       "      <td>현대자동차(주)</td>\n",
       "      <td>포터2 (HR)</td>\n",
       "      <td>2023-03-07</td>\n",
       "      <td>2023-03-08</td>\n",
       "      <td>2023-04-10</td>\n",
       "      <td>현대자동차㈜에서는 포터2(HR) 일부 차량에서 변속 케이블 브라켓 체결 작업 불량으...</td>\n",
       "      <td>작동시 제대로 변속이 되지 않아 의도치</td>\n",
       "    </tr>\n",
       "    <tr>\n",
       "      <th>1</th>\n",
       "      <td>1</td>\n",
       "      <td>비엠더블유코리아(주)</td>\n",
       "      <td>M240i xDrive Coupe</td>\n",
       "      <td>2023-03-14</td>\n",
       "      <td>2023-03-29</td>\n",
       "      <td>2023-04-26</td>\n",
       "      <td>무선 충전용 트레이 장치의 소프트웨어 오류로 디지털 키 사용 시 시동을 끈 상태에서...</td>\n",
       "      <td>무선 충전용 트레이 장치의 소프트웨어</td>\n",
       "    </tr>\n",
       "    <tr>\n",
       "      <th>2</th>\n",
       "      <td>2</td>\n",
       "      <td>비엠더블유코리아(주)</td>\n",
       "      <td>iX3 M Sport</td>\n",
       "      <td>2023-03-27</td>\n",
       "      <td>2023-04-07</td>\n",
       "      <td>2023-04-26</td>\n",
       "      <td>무선 충전용 트레이 장치의 소프트웨어 오류로 디지털 키 사용 시 시동을 끈 상태에서...</td>\n",
       "      <td>무선 충전용 트레이 장치의 소프트웨어</td>\n",
       "    </tr>\n",
       "    <tr>\n",
       "      <th>3</th>\n",
       "      <td>3</td>\n",
       "      <td>메르세데스벤츠코리아(주)</td>\n",
       "      <td>Maybach S 580 4MATIC</td>\n",
       "      <td>2020-09-11</td>\n",
       "      <td>2020-10-28</td>\n",
       "      <td>2023-05-12</td>\n",
       "      <td>개발 공정 오류로 인하여 전방 차체 벽면 실링의 수밀성이 부족할 수 있어 비가 많이...</td>\n",
       "      <td>전방 차체 벽면 실링의 수밀성이</td>\n",
       "    </tr>\n",
       "    <tr>\n",
       "      <th>4</th>\n",
       "      <td>4</td>\n",
       "      <td>메르세데스벤츠코리아(주)</td>\n",
       "      <td>S 580 4MATIC</td>\n",
       "      <td>2020-07-09</td>\n",
       "      <td>2020-07-09</td>\n",
       "      <td>2023-05-12</td>\n",
       "      <td>개발 공정 오류로 인하여 전방 차체 벽면 실링의 수밀성이 부족할 수 있어 비가 많이...</td>\n",
       "      <td>전방 차체 벽면 실링의 수밀성이</td>\n",
       "    </tr>\n",
       "  </tbody>\n",
       "</table>\n",
       "</div>"
      ]
     },
     "execution_count": 4,
     "metadata": {},
     "output_type": "execute_result"
    }
   ],
   "execution_count": 4
  },
  {
   "metadata": {
    "ExecuteTime": {
     "end_time": "2025-04-29T01:06:36.373521Z",
     "start_time": "2025-04-29T01:06:36.369004Z"
    }
   },
   "cell_type": "code",
   "source": "len(df.columns)",
   "id": "44f3b8195e5983da",
   "outputs": [
    {
     "data": {
      "text/plain": [
       "8"
      ]
     },
     "execution_count": 6,
     "metadata": {},
     "output_type": "execute_result"
    }
   ],
   "execution_count": 6
  },
  {
   "metadata": {},
   "cell_type": "code",
   "outputs": [],
   "execution_count": null,
   "source": "",
   "id": "8aa58fde8576f073"
  }
 ],
 "metadata": {
  "kernelspec": {
   "display_name": "Python 3",
   "language": "python",
   "name": "python3"
  },
  "language_info": {
   "codemirror_mode": {
    "name": "ipython",
    "version": 2
   },
   "file_extension": ".py",
   "mimetype": "text/x-python",
   "name": "python",
   "nbconvert_exporter": "python",
   "pygments_lexer": "ipython2",
   "version": "2.7.6"
  }
 },
 "nbformat": 4,
 "nbformat_minor": 5
}
